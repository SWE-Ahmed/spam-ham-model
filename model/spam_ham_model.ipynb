{
 "cells": [
  {
   "cell_type": "markdown",
   "metadata": {},
   "source": [
    "# Messages Monitoring Model"
   ]
  },
  {
   "cell_type": "markdown",
   "metadata": {},
   "source": [
    "## Phase 1: Preprocessing the Data"
   ]
  },
  {
   "cell_type": "markdown",
   "metadata": {},
   "source": [
    "### Load in the Required Libraries"
   ]
  },
  {
   "cell_type": "code",
   "execution_count": 1,
   "metadata": {},
   "outputs": [
    {
     "name": "stderr",
     "output_type": "stream",
     "text": [
      "/Library/Frameworks/Python.framework/Versions/3.10/lib/python3.10/site-packages/tqdm/auto.py:22: TqdmWarning: IProgress not found. Please update jupyter and ipywidgets. See https://ipywidgets.readthedocs.io/en/stable/user_install.html\n",
      "  from .autonotebook import tqdm as notebook_tqdm\n"
     ]
    }
   ],
   "source": [
    "# for dealing with data\n",
    "import pandas as pd\n",
    "import numpy as np\n",
    "from datasets import load_dataset\n",
    "import re\n",
    "\n",
    "# for data visualizations\n",
    "import matplotlib.pyplot as plt\n",
    "import seaborn as sns\n",
    "\n",
    "# for processing data\n",
    "from imblearn.over_sampling import SMOTEN\n",
    "from imblearn.under_sampling import RandomUnderSampler\n",
    "from sklearn.model_selection import train_test_split\n",
    "from sklearn.preprocessing import LabelEncoder\n",
    "\n",
    "# for model building\n",
    "from sklearn.feature_extraction.text import TfidfVectorizer\n",
    "from sklearn.naive_bayes import MultinomialNB\n",
    "from sklearn.pipeline import Pipeline\n",
    "from tensorflow.keras import Model\n",
    "from tensorflow.keras.optimizers import Adam\n",
    "from tensorflow.keras.layers import TextVectorization, Embedding, Flatten, Dense, Dropout, LSTM, GRU, Conv1D, Input, GlobalAvgPool1D, GlobalMaxPool1D, Bidirectional, Reshape\n",
    "\n",
    "# for evaluation metrics\n",
    "from sklearn.metrics import accuracy_score, precision_recall_fscore_support"
   ]
  },
  {
   "cell_type": "markdown",
   "metadata": {},
   "source": [
    "### Load in the Datasets"
   ]
  },
  {
   "cell_type": "code",
   "execution_count": 2,
   "metadata": {},
   "outputs": [],
   "source": [
    "# download the kaggle datasets\n",
    "# uncomment the following lines to download the datasets\n",
    "# !kaggle datasets download -d uciml/sms-spam-collection-dataset\n",
    "# !kaggle datasets download -d team-ai/spam-text-message-classification\n",
    "# !wget https://raw.githubusercontent.com/DeshDSingh/SMS-SPAM-Detection/master/sms_spam.csv\n",
    "# !unzip sms-spam-collection-dataset.zip\n",
    "# !unzip spam-text-message-classification.zip\n",
    "# !rm sms-spam-collection-dataset.zip\n",
    "# !rm spam-text-message-classification.zip\n",
    "# !mv sms_spam.csv ./../data"
   ]
  },
  {
   "cell_type": "code",
   "execution_count": 3,
   "metadata": {},
   "outputs": [
    {
     "name": "stderr",
     "output_type": "stream",
     "text": [
      "Reusing dataset sms_spam (/Users/necro_kudo/.cache/huggingface/datasets/sms_spam/plain_text/1.0.0/53f051d3b5f62d99d61792c91acefe4f1577ad3e4c216fb0ad39e30b9f20019c)\n",
      "100%|██████████| 1/1 [00:00<00:00, 32.24it/s]\n"
     ]
    }
   ],
   "source": [
    "# read in the datasets\n",
    "sms_data1 = pd.read_csv(\"../data/SPAM text message 20170820 - Data.csv\")\n",
    "sms_data2 = pd.read_csv(\"../data/spam.csv\", encoding='latin-1')\n",
    "sms_data3 = pd.DataFrame((load_dataset(\"sms_spam\")['train']))\n",
    "sms_data4 = pd.read_csv(\"./../data/sms_spam.csv\")"
   ]
  },
  {
   "cell_type": "code",
   "execution_count": 4,
   "metadata": {},
   "outputs": [],
   "source": [
    "# unify the features names\n",
    "sms_data1.rename({\"Category\": \"label\", \"Message\": \"message\"}, axis=1, inplace=True)\n",
    "sms_data1 = sms_data1[[\"message\", \"label\"]]\n",
    "\n",
    "# unify the features names & drop unwanted features\n",
    "sms_data2.drop([\"Unnamed: 2\", \"Unnamed: 3\", \"Unnamed: 4\"], axis=1, inplace=True)\n",
    "sms_data2.rename({\"v1\" : \"label\", \"v2\" : \"message\"}, axis=1, inplace=True)\n",
    "sms_data2 = sms_data2[[\"message\", \"label\"]]\n",
    "\n",
    "# unify the features names\n",
    "sms_data3.rename({\"sms\" : \"message\"}, axis=1, inplace=True)\n",
    "sms_data3['label'] = sms_data3['label'].apply(lambda x: \"spam\" if x == 1 else \"ham\")\n",
    "\n",
    "# unify the features names\n",
    "sms_data4.rename({\"type\" : \"label\", \"text\" : \"message\"}, axis=1, inplace=True)\n",
    "sms_data4 = sms_data4[[\"message\", \"label\"]]"
   ]
  },
  {
   "cell_type": "code",
   "execution_count": 5,
   "metadata": {},
   "outputs": [
    {
     "name": "stdout",
     "output_type": "stream",
     "text": [
      "<class 'pandas.core.frame.DataFrame'>\n",
      "Int64Index: 22277 entries, 0 to 5558\n",
      "Data columns (total 2 columns):\n",
      " #   Column   Non-Null Count  Dtype \n",
      "---  ------   --------------  ----- \n",
      " 0   message  22277 non-null  object\n",
      " 1   label    22277 non-null  object\n",
      "dtypes: object(2)\n",
      "memory usage: 522.1+ KB\n"
     ]
    }
   ],
   "source": [
    "# concatenate the results to form a bigger dataframe of all the previous ones\n",
    "sms_big = pd.concat([sms_data1, sms_data2, sms_data3, sms_data4], axis=0)\n",
    "sms_big.info()"
   ]
  },
  {
   "cell_type": "markdown",
   "metadata": {},
   "source": [
    "Great! Since we concatenated the dataframes together, we need to check for duplicates if present, and drop them."
   ]
  },
  {
   "cell_type": "markdown",
   "metadata": {},
   "source": [
    "### Exploratory Data Analysis"
   ]
  },
  {
   "cell_type": "code",
   "execution_count": 6,
   "metadata": {},
   "outputs": [
    {
     "name": "stdout",
     "output_type": "stream",
     "text": [
      "Number of observations before dropping duplicates: 22277\n",
      "Number of duplicated observations: 10579\n",
      "Number of observations after dropping the duplicates: 11698\n"
     ]
    }
   ],
   "source": [
    "# check for duplicates\n",
    "print(f\"Number of observations before dropping duplicates: {len(sms_big)}\")\n",
    "print(f\"Number of duplicated observations: {sms_big.duplicated().sum()}\")\n",
    "sms_big.drop_duplicates(inplace=True)\n",
    "print(f\"Number of observations after dropping the duplicates: {len(sms_big)}\")\n"
   ]
  },
  {
   "cell_type": "markdown",
   "metadata": {},
   "source": [
    "Even though the number of duplicates is alarming (almost 1/2 of the concatenated data), luckily, dropping them will leave us with still a large dataset of over 10K observations"
   ]
  },
  {
   "cell_type": "code",
   "execution_count": 7,
   "metadata": {},
   "outputs": [
    {
     "data": {
      "text/plain": [
       "ham     10124\n",
       "spam     1574\n",
       "Name: label, dtype: int64"
      ]
     },
     "execution_count": 7,
     "metadata": {},
     "output_type": "execute_result"
    }
   ],
   "source": [
    "# examine the number of observations for each class\n",
    "sms_big.label.value_counts()"
   ]
  },
  {
   "cell_type": "markdown",
   "metadata": {},
   "source": [
    "Before proceeding to examine the imbalance in our data, we will first clean it from unwanted characters"
   ]
  },
  {
   "cell_type": "code",
   "execution_count": 8,
   "metadata": {},
   "outputs": [
    {
     "data": {
      "text/plain": [
       "'Go until jurong point, crazy.. Available only in bugis n great world la e buffet... Cine there got amore wat...'"
      ]
     },
     "execution_count": 8,
     "metadata": {},
     "output_type": "execute_result"
    }
   ],
   "source": [
    "sms_big.message.iloc[0]"
   ]
  },
  {
   "cell_type": "code",
   "execution_count": 9,
   "metadata": {},
   "outputs": [],
   "source": [
    "# clean the data by making it all lower-case and getting rid of special characters\n",
    "for i in range(0,sms_big.shape[0]):\n",
    "    message = re.sub(pattern='[^a-zA-Z]', repl=' ', string=sms_big.message.iloc[i]) \n",
    "    message = message.lower()\n",
    "    sms_big.message.iloc[i] = message"
   ]
  },
  {
   "cell_type": "markdown",
   "metadata": {},
   "source": [
    "We will start our data examination through:\n",
    "\n",
    "- Getting to know the length of our messages\n",
    "- Descriptive statistices"
   ]
  },
  {
   "cell_type": "code",
   "execution_count": 10,
   "metadata": {},
   "outputs": [],
   "source": [
    "# adding length column for ease of processing\n",
    "message_lengths = []\n",
    "for row in range(0, len(sms_big)):\n",
    "    message_lengths.append(len(sms_big.message.iloc[row]))\n",
    "sms_big['length'] = message_lengths"
   ]
  },
  {
   "cell_type": "code",
   "execution_count": 11,
   "metadata": {},
   "outputs": [
    {
     "data": {
      "text/html": [
       "<div>\n",
       "<style scoped>\n",
       "    .dataframe tbody tr th:only-of-type {\n",
       "        vertical-align: middle;\n",
       "    }\n",
       "\n",
       "    .dataframe tbody tr th {\n",
       "        vertical-align: top;\n",
       "    }\n",
       "\n",
       "    .dataframe thead th {\n",
       "        text-align: right;\n",
       "    }\n",
       "</style>\n",
       "<table border=\"1\" class=\"dataframe\">\n",
       "  <thead>\n",
       "    <tr style=\"text-align: right;\">\n",
       "      <th></th>\n",
       "      <th>length</th>\n",
       "    </tr>\n",
       "  </thead>\n",
       "  <tbody>\n",
       "    <tr>\n",
       "      <th>count</th>\n",
       "      <td>11698.000000</td>\n",
       "    </tr>\n",
       "    <tr>\n",
       "      <th>mean</th>\n",
       "      <td>82.356471</td>\n",
       "    </tr>\n",
       "    <tr>\n",
       "      <th>std</th>\n",
       "      <td>59.660992</td>\n",
       "    </tr>\n",
       "    <tr>\n",
       "      <th>min</th>\n",
       "      <td>2.000000</td>\n",
       "    </tr>\n",
       "    <tr>\n",
       "      <th>25%</th>\n",
       "      <td>37.000000</td>\n",
       "    </tr>\n",
       "    <tr>\n",
       "      <th>50%</th>\n",
       "      <td>65.000000</td>\n",
       "    </tr>\n",
       "    <tr>\n",
       "      <th>75%</th>\n",
       "      <td>124.000000</td>\n",
       "    </tr>\n",
       "    <tr>\n",
       "      <th>max</th>\n",
       "      <td>911.000000</td>\n",
       "    </tr>\n",
       "  </tbody>\n",
       "</table>\n",
       "</div>"
      ],
      "text/plain": [
       "             length\n",
       "count  11698.000000\n",
       "mean      82.356471\n",
       "std       59.660992\n",
       "min        2.000000\n",
       "25%       37.000000\n",
       "50%       65.000000\n",
       "75%      124.000000\n",
       "max      911.000000"
      ]
     },
     "execution_count": 11,
     "metadata": {},
     "output_type": "execute_result"
    }
   ],
   "source": [
    "# descriptive statistcs of our data\n",
    "sms_big.describe()"
   ]
  },
  {
   "cell_type": "code",
   "execution_count": 12,
   "metadata": {},
   "outputs": [
    {
     "name": "stdout",
     "output_type": "stream",
     "text": [
      "Descriptive statistics for 'ham':\n",
      "\n"
     ]
    },
    {
     "data": {
      "text/html": [
       "<div>\n",
       "<style scoped>\n",
       "    .dataframe tbody tr th:only-of-type {\n",
       "        vertical-align: middle;\n",
       "    }\n",
       "\n",
       "    .dataframe tbody tr th {\n",
       "        vertical-align: top;\n",
       "    }\n",
       "\n",
       "    .dataframe thead th {\n",
       "        text-align: right;\n",
       "    }\n",
       "</style>\n",
       "<table border=\"1\" class=\"dataframe\">\n",
       "  <thead>\n",
       "    <tr style=\"text-align: right;\">\n",
       "      <th></th>\n",
       "      <th>length</th>\n",
       "    </tr>\n",
       "  </thead>\n",
       "  <tbody>\n",
       "    <tr>\n",
       "      <th>count</th>\n",
       "      <td>10124.000000</td>\n",
       "    </tr>\n",
       "    <tr>\n",
       "      <th>mean</th>\n",
       "      <td>73.528842</td>\n",
       "    </tr>\n",
       "    <tr>\n",
       "      <th>std</th>\n",
       "      <td>58.334125</td>\n",
       "    </tr>\n",
       "    <tr>\n",
       "      <th>min</th>\n",
       "      <td>2.000000</td>\n",
       "    </tr>\n",
       "    <tr>\n",
       "      <th>25%</th>\n",
       "      <td>35.000000</td>\n",
       "    </tr>\n",
       "    <tr>\n",
       "      <th>50%</th>\n",
       "      <td>55.000000</td>\n",
       "    </tr>\n",
       "    <tr>\n",
       "      <th>75%</th>\n",
       "      <td>96.000000</td>\n",
       "    </tr>\n",
       "    <tr>\n",
       "      <th>max</th>\n",
       "      <td>911.000000</td>\n",
       "    </tr>\n",
       "  </tbody>\n",
       "</table>\n",
       "</div>"
      ],
      "text/plain": [
       "             length\n",
       "count  10124.000000\n",
       "mean      73.528842\n",
       "std       58.334125\n",
       "min        2.000000\n",
       "25%       35.000000\n",
       "50%       55.000000\n",
       "75%       96.000000\n",
       "max      911.000000"
      ]
     },
     "execution_count": 12,
     "metadata": {},
     "output_type": "execute_result"
    }
   ],
   "source": [
    "# for ham label\n",
    "print(\"Descriptive statistics for 'ham':\\n\")\n",
    "sms_big[sms_big.label == 'ham'].describe()"
   ]
  },
  {
   "cell_type": "code",
   "execution_count": 13,
   "metadata": {},
   "outputs": [
    {
     "data": {
      "text/plain": [
       "array([589, 611, 612, 629, 630, 632, 790, 791, 910, 911])"
      ]
     },
     "execution_count": 13,
     "metadata": {},
     "output_type": "execute_result"
    }
   ],
   "source": [
    "sms_big[sms_big.label == 'ham'].length.sort_values().values[-10:]"
   ]
  },
  {
   "cell_type": "markdown",
   "metadata": {},
   "source": [
    "We will need to drop the these messages with over 700 in length, as they are considered outliers in our case. Dropping them will be ok since there are far more other observations left."
   ]
  },
  {
   "cell_type": "code",
   "execution_count": 14,
   "metadata": {},
   "outputs": [],
   "source": [
    "# dropping the outliers in ham label\n",
    "\n",
    "## getting the index of each outlier\n",
    "indices = sms_big[sms_big.length > 700].index.values\n",
    "\n",
    "sms_big.drop(indices, axis=0, inplace=True)"
   ]
  },
  {
   "cell_type": "code",
   "execution_count": 15,
   "metadata": {},
   "outputs": [
    {
     "name": "stdout",
     "output_type": "stream",
     "text": [
      "Descriptive statistics for 'spam':\n",
      "\n"
     ]
    },
    {
     "data": {
      "text/html": [
       "<div>\n",
       "<style scoped>\n",
       "    .dataframe tbody tr th:only-of-type {\n",
       "        vertical-align: middle;\n",
       "    }\n",
       "\n",
       "    .dataframe tbody tr th {\n",
       "        vertical-align: top;\n",
       "    }\n",
       "\n",
       "    .dataframe thead th {\n",
       "        text-align: right;\n",
       "    }\n",
       "</style>\n",
       "<table border=\"1\" class=\"dataframe\">\n",
       "  <thead>\n",
       "    <tr style=\"text-align: right;\">\n",
       "      <th></th>\n",
       "      <th>length</th>\n",
       "    </tr>\n",
       "  </thead>\n",
       "  <tbody>\n",
       "    <tr>\n",
       "      <th>count</th>\n",
       "      <td>1574.000000</td>\n",
       "    </tr>\n",
       "    <tr>\n",
       "      <th>mean</th>\n",
       "      <td>139.135959</td>\n",
       "    </tr>\n",
       "    <tr>\n",
       "      <th>std</th>\n",
       "      <td>29.012974</td>\n",
       "    </tr>\n",
       "    <tr>\n",
       "      <th>min</th>\n",
       "      <td>7.000000</td>\n",
       "    </tr>\n",
       "    <tr>\n",
       "      <th>25%</th>\n",
       "      <td>133.000000</td>\n",
       "    </tr>\n",
       "    <tr>\n",
       "      <th>50%</th>\n",
       "      <td>149.000000</td>\n",
       "    </tr>\n",
       "    <tr>\n",
       "      <th>75%</th>\n",
       "      <td>157.000000</td>\n",
       "    </tr>\n",
       "    <tr>\n",
       "      <th>max</th>\n",
       "      <td>224.000000</td>\n",
       "    </tr>\n",
       "  </tbody>\n",
       "</table>\n",
       "</div>"
      ],
      "text/plain": [
       "            length\n",
       "count  1574.000000\n",
       "mean    139.135959\n",
       "std      29.012974\n",
       "min       7.000000\n",
       "25%     133.000000\n",
       "50%     149.000000\n",
       "75%     157.000000\n",
       "max     224.000000"
      ]
     },
     "execution_count": 15,
     "metadata": {},
     "output_type": "execute_result"
    }
   ],
   "source": [
    "# for spam label\n",
    "print(\"Descriptive statistics for 'spam':\\n\")\n",
    "sms_big[sms_big.label == 'spam'].describe()"
   ]
  },
  {
   "cell_type": "code",
   "execution_count": 16,
   "metadata": {},
   "outputs": [
    {
     "data": {
      "image/png": "[encoded data removed]",
      "text/plain": [
       "<Figure size 432x288 with 1 Axes>"
      ]
     },
     "metadata": {
      "needs_background": "light"
     },
     "output_type": "display_data"
    }
   ],
   "source": [
    "## plot the count plot to show how frequent long and short messages are in the data\n",
    "sms_big.length.plot.hist()\n",
    "\n",
    "plt.title(\"Frequency of message lengths\")\n",
    "plt.xlabel(\"Message Length\")\n",
    "plt.ylabel(\"Frequency\");"
   ]
  },
  {
   "cell_type": "code",
   "execution_count": 17,
   "metadata": {},
   "outputs": [
    {
     "data": {
      "text/plain": [
       "82.09372327689414"
      ]
     },
     "execution_count": 17,
     "metadata": {},
     "output_type": "execute_result"
    }
   ],
   "source": [
    "# length of the messages on average\n",
    "message_lengths = sms_big['length']\n",
    "avg_message_len = np.mean(message_lengths)\n",
    "avg_message_len "
   ]
  },
  {
   "cell_type": "code",
   "execution_count": 99,
   "metadata": {},
   "outputs": [
    {
     "data": {
      "image/png": "[encoded data removed]",
      "text/plain": [
       "<Figure size 720x504 with 2 Axes>"
      ]
     },
     "metadata": {
      "needs_background": "light"
     },
     "output_type": "display_data"
    }
   ],
   "source": [
    "# plot per label\n",
    "# fig, (ax1, ax2) = plt.subplots(1, 2, figsize=(10,7), sharex=True, sharey=True)\n",
    "sms_big.hist(column='length', by='label', bins=50,figsize=(10,7));\n",
    "\n",
    "# plt.xlabel(\"Message Length\")\n",
    "# plt.ylabel(\"Frequency\")\n",
    "# plt.show();"
   ]
  },
  {
   "cell_type": "code",
   "execution_count": 19,
   "metadata": {},
   "outputs": [
    {
     "data": {
      "image/png": "[encoded data removed]",
      "text/plain": [
       "<Figure size 720x504 with 1 Axes>"
      ]
     },
     "metadata": {
      "needs_background": "light"
     },
     "output_type": "display_data"
    }
   ],
   "source": [
    "# plot the distribution of the examples in each class\n",
    "plt.figure(figsize=(10,7))\n",
    "sns.countplot(x='label', data=sms_big)\n",
    "\n",
    "plt.title('Distribution of the Messages')\n",
    "plt.xlabel('Labels')\n",
    "plt.ylabel('Count')\n",
    "plt.show()"
   ]
  },
  {
   "cell_type": "markdown",
   "metadata": {},
   "source": [
    "We can see that our target class, `spam`, is imbalanced. Thus we would use `smote` to fix this issue."
   ]
  },
  {
   "cell_type": "code",
   "execution_count": 20,
   "metadata": {},
   "outputs": [],
   "source": [
    "## prepare smote instance along with data splits for oversampling\n",
    "# sm = SMOTEN(random_state=42)\n",
    "## prepare under sampler instance for undersampling\n",
    "unders = RandomUnderSampler(random_state=42,replacement=True)\n",
    "\n",
    "X = sms_big.message\n",
    "y = sms_big.label\n",
    "X_train, X_test, y_train, y_test = train_test_split(X, y, test_size=0.2, random_state=42)"
   ]
  },
  {
   "cell_type": "code",
   "execution_count": 21,
   "metadata": {},
   "outputs": [
    {
     "data": {
      "text/plain": [
       "<AxesSubplot:xlabel='label', ylabel='count'>"
      ]
     },
     "execution_count": 21,
     "metadata": {},
     "output_type": "execute_result"
    },
    {
     "data": {
      "image/png": "[encoded data removed]",
      "text/plain": [
       "<Figure size 432x288 with 1 Axes>"
      ]
     },
     "metadata": {
      "needs_background": "light"
     },
     "output_type": "display_data"
    }
   ],
   "source": [
    "# training data before oversampling/undersampling\n",
    "train_df = pd.concat([X_train, y_train], axis=1)\n",
    "sns.countplot(x='label', data=train_df)"
   ]
  },
  {
   "cell_type": "code",
   "execution_count": 106,
   "metadata": {},
   "outputs": [
    {
     "data": {
      "text/plain": [
       "Text(0.5, 0, 'label')"
      ]
     },
     "execution_count": 106,
     "metadata": {},
     "output_type": "execute_result"
    },
    {
     "data": {
      "image/png": "[encoded data removed]",
      "text/plain": [
       "<Figure size 432x288 with 1 Axes>"
      ]
     },
     "metadata": {
      "needs_background": "light"
     },
     "output_type": "display_data"
    }
   ],
   "source": [
    "# training data after oversampling/undersampling\n",
    "X_res, y_res = unders.fit_resample(np.array(X_train).reshape(-1,1), np.array(y_train).reshape(-1,1))\n",
    "X_train_res = pd.Series(X_res.reshape(-1))\n",
    "y_train_res = pd.Series(y_res.reshape(-1))\n",
    "train_df = pd.concat([X_train_res, y_train_res], axis=1)\n",
    "sns.countplot(x=1, data=train_df)\n",
    "plt.title('Distribution of the Messages (Training set)')\n",
    "plt.xlabel('label')"
   ]
  },
  {
   "cell_type": "markdown",
   "metadata": {},
   "source": [
    "Now lets oversample/undersample the test set too"
   ]
  },
  {
   "cell_type": "code",
   "execution_count": 23,
   "metadata": {},
   "outputs": [
    {
     "data": {
      "text/plain": [
       "<AxesSubplot:xlabel='label', ylabel='count'>"
      ]
     },
     "execution_count": 23,
     "metadata": {},
     "output_type": "execute_result"
    },
    {
     "data": {
      "image/png": "[encoded data removed]",
      "text/plain": [
       "<Figure size 432x288 with 1 Axes>"
      ]
     },
     "metadata": {
      "needs_background": "light"
     },
     "output_type": "display_data"
    }
   ],
   "source": [
    "# testing set before oversampling/undersampling\n",
    "test_df = pd.concat([X_test, y_test], axis=1)\n",
    "sns.countplot(x='label', data=test_df)"
   ]
  },
  {
   "cell_type": "code",
   "execution_count": 105,
   "metadata": {},
   "outputs": [
    {
     "data": {
      "image/png": "[encoded data removed]",
      "text/plain": [
       "<Figure size 432x288 with 1 Axes>"
      ]
     },
     "metadata": {
      "needs_background": "light"
     },
     "output_type": "display_data"
    }
   ],
   "source": [
    "# testing data after oversampling/undersampling\n",
    "X_res, y_res = unders.fit_resample(np.array(X_test).reshape(-1,1), np.array(y_test).reshape(-1,1))\n",
    "X_test_res = pd.Series(X_res.reshape(-1))\n",
    "y_test_res = pd.Series(y_res.reshape(-1))\n",
    "test_df = pd.concat([X_test_res, y_test_res], axis=1)\n",
    "sns.countplot(x=1, data=test_df)\n",
    "plt.title('Distribution of the Messages (Testing set)')\n",
    "plt.xlabel('label');"
   ]
  },
  {
   "cell_type": "code",
   "execution_count": 111,
   "metadata": {},
   "outputs": [
    {
     "data": {
      "image/png": "[encoded data removed]",
      "text/plain": [
       "<Figure size 720x504 with 2 Axes>"
      ]
     },
     "metadata": {
      "needs_background": "light"
     },
     "output_type": "display_data"
    }
   ],
   "source": [
    "# concat the new undersampled data to view its distribution\n",
    "final_df = pd.concat([train_df, test_df])\n",
    "# readd the length column\n",
    "message_lengths = []\n",
    "for row in range(0, len(final_df)):\n",
    "    message_lengths.append(len(final_df[0].iloc[row]))\n",
    "final_df['length'] = message_lengths\n",
    "final_df.hist(column='length', by=1, bins=50,figsize=(10,7));"
   ]
  },
  {
   "cell_type": "code",
   "execution_count": 25,
   "metadata": {},
   "outputs": [
    {
     "data": {
      "text/plain": [
       "((2524,), (2524,), (624,), (624,))"
      ]
     },
     "execution_count": 25,
     "metadata": {},
     "output_type": "execute_result"
    }
   ],
   "source": [
    "# shape of each set\n",
    "X_train_res.shape, y_train_res.shape, X_test_res.shape, y_test_res.shape"
   ]
  },
  {
   "cell_type": "code",
   "execution_count": 26,
   "metadata": {},
   "outputs": [],
   "source": [
    "# convert the datasets to numpy arrays\n",
    "X_train_res = X_train_res.to_numpy()\n",
    "y_train_res = y_train_res.to_numpy()\n",
    "\n",
    "X_test_res = X_test_res.to_numpy()\n",
    "y_test_res = y_test_res.to_numpy()"
   ]
  },
  {
   "cell_type": "code",
   "execution_count": 27,
   "metadata": {},
   "outputs": [],
   "source": [
    "# apply label encoder to transform the caategorical target variable\n",
    "le = LabelEncoder()\n",
    "y_train_res = le.fit_transform(y_train_res)\n",
    "y_test_res = le.fit_transform(y_test_res)"
   ]
  },
  {
   "cell_type": "code",
   "execution_count": 28,
   "metadata": {},
   "outputs": [
    {
     "data": {
      "text/plain": [
       "array([0, 0, 0, ..., 1, 1, 1])"
      ]
     },
     "execution_count": 28,
     "metadata": {},
     "output_type": "execute_result"
    }
   ],
   "source": [
    "y_train_res"
   ]
  },
  {
   "cell_type": "code",
   "execution_count": 29,
   "metadata": {},
   "outputs": [
    {
     "name": "stdout",
     "output_type": "stream",
     "text": [
      "Message:\n",
      "my mobile number pls sms ur mail id convey regards to achan amma rakhesh qatar\n",
      "Label:\n",
      "ham\n"
     ]
    }
   ],
   "source": [
    "# sample random observations to become one with the data\n",
    "from random import randint\n",
    "index = randint(0, len(sms_big) - 1)\n",
    "print(f\"Message:\\n{sms_big.iloc[index].message}\")\n",
    "print(f\"Label:\\n{sms_big.iloc[index].label}\")"
   ]
  },
  {
   "cell_type": "markdown",
   "metadata": {},
   "source": [
    "### Text Tokenization"
   ]
  },
  {
   "cell_type": "markdown",
   "metadata": {},
   "source": [
    "Now, after getting to know our data, and cleaning it, we can proceed to converting our categorical data into numerical ones, so our models can successfully process them"
   ]
  },
  {
   "cell_type": "code",
   "execution_count": 30,
   "metadata": {},
   "outputs": [
    {
     "name": "stdout",
     "output_type": "stream",
     "text": [
      "Number of vocabulary words: 4330\n",
      "Average length of messages: 19\n"
     ]
    }
   ],
   "source": [
    "# get max vocabulary in the data (messages)\n",
    "vocab_set = set()\n",
    "for message in X_train_res:\n",
    "    message = message.split(sep=' ')\n",
    "    for word in message:\n",
    "        vocab_set.add(word.lower().strip())\n",
    "\n",
    "# get average words (tokens) in each message\n",
    "avg_token_length = round(sum([len(i.split()) for i in X_train_res])/len(X_train_res))\n",
    "\n",
    "print(f\"Number of vocabulary words: {len(vocab_set)}\")\n",
    "print(f\"Average length of messages: {avg_token_length}\")"
   ]
  },
  {
   "cell_type": "markdown",
   "metadata": {},
   "source": [
    "We will go with a `10000`, as our data seemed to have a close size to it."
   ]
  },
  {
   "cell_type": "code",
   "execution_count": 31,
   "metadata": {},
   "outputs": [
    {
     "name": "stderr",
     "output_type": "stream",
     "text": [
      "2022-08-23 18:07:27.155238: I tensorflow/core/platform/cpu_feature_guard.cc:151] This TensorFlow binary is optimized with oneAPI Deep Neural Network Library (oneDNN) to use the following CPU instructions in performance-critical operations:  AVX2 FMA\n",
      "To enable them in other operations, rebuild TensorFlow with the appropriate compiler flags.\n"
     ]
    }
   ],
   "source": [
    "max_tokens = 10000\n",
    "output_sequence_length = avg_token_length\n",
    "\n",
    "# create a text vectorization layer\n",
    "text_vectorizer = TextVectorization(max_tokens=max_tokens, \n",
    "                                    standardize=\"lower_and_strip_punctuation\", \n",
    "                                    split=\"whitespace\", \n",
    "                                    ngrams=None, \n",
    "                                    output_mode=\"int\",\n",
    "                                    output_sequence_length=output_sequence_length)\n",
    "\n",
    "# apply it to our training set\n",
    "text_vectorizer.adapt(X_train_res)"
   ]
  },
  {
   "cell_type": "markdown",
   "metadata": {},
   "source": [
    "Examine our text vectorizer findings "
   ]
  },
  {
   "cell_type": "code",
   "execution_count": 32,
   "metadata": {},
   "outputs": [
    {
     "name": "stdout",
     "output_type": "stream",
     "text": [
      "Number of words in vocab: 4331\n",
      "Top 5 most common words: ['', '[UNK]', 'to', 'you', 'a']\n",
      "Bottom 5 least common words: ['absolutly', 'absolutely', 'above', 'abj', 'abdomen']\n"
     ]
    }
   ],
   "source": [
    "# Get the unique words in the vocabulary\n",
    "words_in_vocab = text_vectorizer.get_vocabulary()\n",
    "top_5_words = words_in_vocab[:5] \n",
    "bottom_5_words = words_in_vocab[-5:] \n",
    "print(f\"Number of words in vocab: {len(words_in_vocab)}\")\n",
    "print(f\"Top 5 most common words: {top_5_words}\") \n",
    "print(f\"Bottom 5 least common words: {bottom_5_words}\")"
   ]
  },
  {
   "cell_type": "code",
   "execution_count": 33,
   "metadata": {},
   "outputs": [],
   "source": [
    "# initialize messages embeddings\n",
    "embedding = Embedding(input_dim=len(text_vectorizer.get_vocabulary()), \n",
    "                             output_dim=128, \n",
    "                             embeddings_initializer=\"uniform\", \n",
    "                             input_length=output_sequence_length) "
   ]
  },
  {
   "cell_type": "markdown",
   "metadata": {},
   "source": [
    "Now, we are ready to proceed to the next phase, Model development!"
   ]
  },
  {
   "cell_type": "markdown",
   "metadata": {},
   "source": [
    "## Phase 2: Model Development"
   ]
  },
  {
   "cell_type": "markdown",
   "metadata": {},
   "source": [
    "We will experiment with various model architecture, and compare them to get the optimal one for this case."
   ]
  },
  {
   "cell_type": "markdown",
   "metadata": {},
   "source": [
    "Before we proceed, we will define a function that we can use to evaluate our model's performance"
   ]
  },
  {
   "cell_type": "code",
   "execution_count": 34,
   "metadata": {},
   "outputs": [],
   "source": [
    "# define a function to evaluate a model's performance\n",
    "\n",
    "def evaluate_custom_model(y_true, y_pred):\n",
    "    \"\"\"\n",
    "    A function used to evaluate model's performance\n",
    "    \n",
    "    - Args:\n",
    "     y_true: the true labels of the data used\n",
    "     y_pred: the predictions made by the model\n",
    "    \n",
    "    - Returns:\n",
    "     A dictionary of accuracy and f1-score\n",
    "    \"\"\"\n",
    "    accuracy = accuracy_score(y_true, y_pred) * 100\n",
    "    _, _, f1, _ = precision_recall_fscore_support(y_true, y_pred, average=\"weighted\")\n",
    "    \n",
    "    results = {\n",
    "        'accuracy': accuracy,\n",
    "        'f1-score': f1\n",
    "    }\n",
    "    \n",
    "    return results"
   ]
  },
  {
   "cell_type": "markdown",
   "metadata": {},
   "source": [
    "### Model 0: Baseline model using sklearn's MultiNomialNB"
   ]
  },
  {
   "cell_type": "code",
   "execution_count": 35,
   "metadata": {},
   "outputs": [
    {
     "data": {
      "text/html": [
       "<style>#sk-container-id-1 {color: black;background-color: white;}#sk-container-id-1 pre{padding: 0;}#sk-container-id-1 div.sk-toggleable {background-color: white;}#sk-container-id-1 label.sk-toggleable__label {cursor: pointer;display: block;width: 100%;margin-bottom: 0;padding: 0.3em;box-sizing: border-box;text-align: center;}#sk-container-id-1 label.sk-toggleable__label-arrow:before {content: \"▸\";float: left;margin-right: 0.25em;color: #696969;}#sk-container-id-1 label.sk-toggleable__label-arrow:hover:before {color: black;}#sk-container-id-1 div.sk-estimator:hover label.sk-toggleable__label-arrow:before {color: black;}#sk-container-id-1 div.sk-toggleable__content {max-height: 0;max-width: 0;overflow: hidden;text-align: left;background-color: #f0f8ff;}#sk-container-id-1 div.sk-toggleable__content pre {margin: 0.2em;color: black;border-radius: 0.25em;background-color: #f0f8ff;}#sk-container-id-1 input.sk-toggleable__control:checked~div.sk-toggleable__content {max-height: 200px;max-width: 100%;overflow: auto;}#sk-container-id-1 input.sk-toggleable__control:checked~label.sk-toggleable__label-arrow:before {content: \"▾\";}#sk-container-id-1 div.sk-estimator input.sk-toggleable__control:checked~label.sk-toggleable__label {background-color: #d4ebff;}#sk-container-id-1 div.sk-label input.sk-toggleable__control:checked~label.sk-toggleable__label {background-color: #d4ebff;}#sk-container-id-1 input.sk-hidden--visually {border: 0;clip: rect(1px 1px 1px 1px);clip: rect(1px, 1px, 1px, 1px);height: 1px;margin: -1px;overflow: hidden;padding: 0;position: absolute;width: 1px;}#sk-container-id-1 div.sk-estimator {font-family: monospace;background-color: #f0f8ff;border: 1px dotted black;border-radius: 0.25em;box-sizing: border-box;margin-bottom: 0.5em;}#sk-container-id-1 div.sk-estimator:hover {background-color: #d4ebff;}#sk-container-id-1 div.sk-parallel-item::after {content: \"\";width: 100%;border-bottom: 1px solid gray;flex-grow: 1;}#sk-container-id-1 div.sk-label:hover label.sk-toggleable__label {background-color: #d4ebff;}#sk-container-id-1 div.sk-serial::before {content: \"\";position: absolute;border-left: 1px solid gray;box-sizing: border-box;top: 0;bottom: 0;left: 50%;z-index: 0;}#sk-container-id-1 div.sk-serial {display: flex;flex-direction: column;align-items: center;background-color: white;padding-right: 0.2em;padding-left: 0.2em;position: relative;}#sk-container-id-1 div.sk-item {position: relative;z-index: 1;}#sk-container-id-1 div.sk-parallel {display: flex;align-items: stretch;justify-content: center;background-color: white;position: relative;}#sk-container-id-1 div.sk-item::before, #sk-container-id-1 div.sk-parallel-item::before {content: \"\";position: absolute;border-left: 1px solid gray;box-sizing: border-box;top: 0;bottom: 0;left: 50%;z-index: -1;}#sk-container-id-1 div.sk-parallel-item {display: flex;flex-direction: column;z-index: 1;position: relative;background-color: white;}#sk-container-id-1 div.sk-parallel-item:first-child::after {align-self: flex-end;width: 50%;}#sk-container-id-1 div.sk-parallel-item:last-child::after {align-self: flex-start;width: 50%;}#sk-container-id-1 div.sk-parallel-item:only-child::after {width: 0;}#sk-container-id-1 div.sk-dashed-wrapped {border: 1px dashed gray;margin: 0 0.4em 0.5em 0.4em;box-sizing: border-box;padding-bottom: 0.4em;background-color: white;}#sk-container-id-1 div.sk-label label {font-family: monospace;font-weight: bold;display: inline-block;line-height: 1.2em;}#sk-container-id-1 div.sk-label-container {text-align: center;}#sk-container-id-1 div.sk-container {/* jupyter's `normalize.less` sets `[hidden] { display: none; }` but bootstrap.min.css set `[hidden] { display: none !important; }` so we also need the `!important` here to be able to override the default hidden behavior on the sphinx rendered scikit-learn.org. See: https://github.com/scikit-learn/scikit-learn/issues/21755 */display: inline-block !important;position: relative;}#sk-container-id-1 div.sk-text-repr-fallback {display: none;}</style><div id=\"sk-container-id-1\" class=\"sk-top-container\"><div class=\"sk-text-repr-fallback\"><pre>Pipeline(steps=[(&#x27;tfid&#x27;, TfidfVectorizer()), (&#x27;mnb&#x27;, MultinomialNB())])</pre><b>In a Jupyter environment, please rerun this cell to show the HTML representation or trust the notebook. <br />On GitHub, the HTML representation is unable to render, please try loading this page with nbviewer.org.</b></div><div class=\"sk-container\" hidden><div class=\"sk-item sk-dashed-wrapped\"><div class=\"sk-label-container\"><div class=\"sk-label sk-toggleable\"><input class=\"sk-toggleable__control sk-hidden--visually\" id=\"sk-estimator-id-1\" type=\"checkbox\" ><label for=\"sk-estimator-id-1\" class=\"sk-toggleable__label sk-toggleable__label-arrow\">Pipeline</label><div class=\"sk-toggleable__content\"><pre>Pipeline(steps=[(&#x27;tfid&#x27;, TfidfVectorizer()), (&#x27;mnb&#x27;, MultinomialNB())])</pre></div></div></div><div class=\"sk-serial\"><div class=\"sk-item\"><div class=\"sk-estimator sk-toggleable\"><input class=\"sk-toggleable__control sk-hidden--visually\" id=\"sk-estimator-id-2\" type=\"checkbox\" ><label for=\"sk-estimator-id-2\" class=\"sk-toggleable__label sk-toggleable__label-arrow\">TfidfVectorizer</label><div class=\"sk-toggleable__content\"><pre>TfidfVectorizer()</pre></div></div></div><div class=\"sk-item\"><div class=\"sk-estimator sk-toggleable\"><input class=\"sk-toggleable__control sk-hidden--visually\" id=\"sk-estimator-id-3\" type=\"checkbox\" ><label for=\"sk-estimator-id-3\" class=\"sk-toggleable__label sk-toggleable__label-arrow\">MultinomialNB</label><div class=\"sk-toggleable__content\"><pre>MultinomialNB()</pre></div></div></div></div></div></div></div>"
      ],
      "text/plain": [
       "Pipeline(steps=[('tfid', TfidfVectorizer()), ('mnb', MultinomialNB())])"
      ]
     },
     "execution_count": 35,
     "metadata": {},
     "output_type": "execute_result"
    }
   ],
   "source": [
    "# create the model\n",
    "model_0 = Pipeline([\n",
    "    ('tfid', TfidfVectorizer()),\n",
    "    ('mnb', MultinomialNB())\n",
    "])\n",
    "\n",
    "# fit the model\n",
    "model_0.fit(X_train_res, y_train_res)"
   ]
  },
  {
   "cell_type": "code",
   "execution_count": 36,
   "metadata": {},
   "outputs": [
    {
     "data": {
      "text/plain": [
       "{'accuracy': 95.99358974358975, 'f1-score': 0.9599333249433031}"
      ]
     },
     "execution_count": 36,
     "metadata": {},
     "output_type": "execute_result"
    }
   ],
   "source": [
    "# evaluate our model\n",
    "\n",
    "y_pred = model_0.predict(X_test_res)\n",
    "evaluate_custom_model(y_true=y_test_res, y_pred=y_pred)"
   ]
  },
  {
   "cell_type": "markdown",
   "metadata": {},
   "source": [
    "Even though the evaluation metrics are high, it is not a good indicator of its success"
   ]
  },
  {
   "cell_type": "code",
   "execution_count": 37,
   "metadata": {},
   "outputs": [],
   "source": [
    "def custom_data_test(model):\n",
    "    \"\"\"\n",
    "    Tests the model on real spam custom data\n",
    "    Args:\n",
    "        model (ML model): a model to test the spam custom data on\n",
    "    \"\"\"\n",
    "    data = [\n",
    "        'DPD-7895 Delivery Attempt made, recipient was not reached. Reschedule Delivery: http://www.apd-parcel.cf',\n",
    "        'Amazon : Your account is currently locked for security reasons. Please verify your payment quickly or we will delete your account',\n",
    "        'CENSUS: There is missing information from your Census application. Update your application by sending your account information to 9663434345',\n",
    "        'We solve homeworks for everyone. If you want to score good in you exams contact us. very effective'\n",
    "    ]\n",
    "    \n",
    "    y_true = [1,1,1,1]\n",
    "    \n",
    "    y_pred = model.predict(data)\n",
    "    if y_pred[0] != 0 or y_pred[0] != 1:\n",
    "        y_pred = np.squeeze(np.round(y_pred))\n",
    "\n",
    "    result = y_pred == y_true\n",
    "    output = 0\n",
    "    for i in result:\n",
    "        if i == True:\n",
    "            output += 1\n",
    "    \n",
    "    return f\"Model Performance on custom spam dataset: {output / len(result) * 100}%\""
   ]
  },
  {
   "cell_type": "code",
   "execution_count": 38,
   "metadata": {},
   "outputs": [
    {
     "data": {
      "text/plain": [
       "'Model Performance on custom spam dataset: 75.0%'"
      ]
     },
     "execution_count": 38,
     "metadata": {},
     "output_type": "execute_result"
    }
   ],
   "source": [
    "custom_data_test(model_0)"
   ]
  },
  {
   "cell_type": "markdown",
   "metadata": {},
   "source": [
    "### Model 1: Simple Deep Model"
   ]
  },
  {
   "cell_type": "code",
   "execution_count": 39,
   "metadata": {},
   "outputs": [
    {
     "name": "stdout",
     "output_type": "stream",
     "text": [
      "Epoch 1/5\n",
      "79/79 [==============================] - 2s 10ms/step - loss: 0.5722 - accuracy: 0.8839\n",
      "Epoch 2/5\n",
      "79/79 [==============================] - 1s 10ms/step - loss: 0.3206 - accuracy: 0.9323\n",
      "Epoch 3/5\n",
      "79/79 [==============================] - 1s 8ms/step - loss: 0.1985 - accuracy: 0.9517\n",
      "Epoch 4/5\n",
      "79/79 [==============================] - 1s 8ms/step - loss: 0.1398 - accuracy: 0.9659\n",
      "Epoch 5/5\n",
      "79/79 [==============================] - 1s 8ms/step - loss: 0.1043 - accuracy: 0.9742\n"
     ]
    }
   ],
   "source": [
    "# build the model\n",
    "inputs = Input(shape=(1,), dtype='string')\n",
    "x = text_vectorizer(inputs)\n",
    "x = embedding(x)\n",
    "x = GlobalAvgPool1D()(x)\n",
    "outputs = Dense(units=1, activation='sigmoid')(x)\n",
    "\n",
    "model_1 = Model(inputs, outputs, name='simple_model_1')\n",
    "\n",
    "# compile the model\n",
    "model_1.compile(\n",
    "    loss='binary_crossentropy',\n",
    "    optimizer= Adam(),\n",
    "    metrics=['accuracy']\n",
    ")\n",
    "\n",
    "# fit the model\n",
    "history_1 = model_1.fit(\n",
    "    X_train_res,\n",
    "    y_train_res,\n",
    "    epochs=5\n",
    ")"
   ]
  },
  {
   "cell_type": "markdown",
   "metadata": {},
   "source": [
    "These high accuracy scores might suggest an overfitting, especially when our data was imbalanced and we had to undersample"
   ]
  },
  {
   "cell_type": "code",
   "execution_count": 40,
   "metadata": {},
   "outputs": [
    {
     "data": {
      "text/plain": [
       "{'accuracy': 96.31410256410257, 'f1-score': 0.9631136481044084}"
      ]
     },
     "execution_count": 40,
     "metadata": {},
     "output_type": "execute_result"
    }
   ],
   "source": [
    "# evaluate the model\n",
    "pred_probs = model_1.predict(X_test_res)\n",
    "preds = np.squeeze(np.round(pred_probs))\n",
    "evaluate_custom_model(y_test_res, preds)"
   ]
  },
  {
   "cell_type": "code",
   "execution_count": 41,
   "metadata": {},
   "outputs": [
    {
     "data": {
      "text/plain": [
       "'Model Performance on custom spam dataset: 50.0%'"
      ]
     },
     "execution_count": 41,
     "metadata": {},
     "output_type": "execute_result"
    }
   ],
   "source": [
    "custom_data_test(model_1)"
   ]
  },
  {
   "cell_type": "markdown",
   "metadata": {},
   "source": [
    "We will continue to experiment with our model development to better predict them."
   ]
  },
  {
   "cell_type": "markdown",
   "metadata": {},
   "source": [
    "### Model 2: Deep Model with LSTM"
   ]
  },
  {
   "cell_type": "markdown",
   "metadata": {},
   "source": [
    "Before we build the next models, we need to create a new embedding layer for each new model, as the embedding layer is a learned representaion, which when used through several models, it might cause data leakage"
   ]
  },
  {
   "cell_type": "code",
   "execution_count": 42,
   "metadata": {},
   "outputs": [],
   "source": [
    "# create model_2 embedding layer\n",
    "embedding = Embedding(input_dim=len(text_vectorizer.get_vocabulary()), \n",
    "                             output_dim=128, \n",
    "                             embeddings_initializer=\"uniform\", \n",
    "                             input_length=output_sequence_length) "
   ]
  },
  {
   "cell_type": "code",
   "execution_count": 43,
   "metadata": {},
   "outputs": [
    {
     "name": "stdout",
     "output_type": "stream",
     "text": [
      "Epoch 1/5\n",
      "79/79 [==============================] - 7s 52ms/step - loss: 0.2682 - accuracy: 0.8994\n",
      "Epoch 2/5\n",
      "79/79 [==============================] - 4s 55ms/step - loss: 0.0535 - accuracy: 0.9861\n",
      "Epoch 3/5\n",
      "79/79 [==============================] - 4s 52ms/step - loss: 0.0149 - accuracy: 0.9952\n",
      "Epoch 4/5\n",
      "79/79 [==============================] - 4s 52ms/step - loss: 0.0070 - accuracy: 0.9976\n",
      "Epoch 5/5\n",
      "79/79 [==============================] - 4s 56ms/step - loss: 5.3081e-04 - accuracy: 1.0000\n"
     ]
    }
   ],
   "source": [
    "# build the model\n",
    "inputs = Input(shape=(1,), dtype='string')\n",
    "x = text_vectorizer(inputs)\n",
    "x = embedding(x)\n",
    "x = LSTM(128)(x)\n",
    "outputs = Dense(units=1, activation='sigmoid')(x)\n",
    "\n",
    "model_2 = Model(inputs, outputs, name='lstm_model_2')\n",
    "\n",
    "# compile the model\n",
    "model_2.compile(\n",
    "    loss='binary_crossentropy',\n",
    "    optimizer=Adam(),\n",
    "    metrics=['accuracy']\n",
    ")\n",
    "\n",
    "# fit the model\n",
    "history_2 = model_2.fit(\n",
    "    X_train_res,\n",
    "    y_train_res,\n",
    "    epochs=5\n",
    ")"
   ]
  },
  {
   "cell_type": "code",
   "execution_count": 44,
   "metadata": {},
   "outputs": [
    {
     "data": {
      "text/plain": [
       "{'accuracy': 98.5576923076923, 'f1-score': 0.9855765896955827}"
      ]
     },
     "execution_count": 44,
     "metadata": {},
     "output_type": "execute_result"
    }
   ],
   "source": [
    "# evaluate the model\n",
    "pred_probs = model_2.predict(X_test_res)\n",
    "preds = np.squeeze(np.round(pred_probs))\n",
    "evaluate_custom_model(y_test_res, preds)"
   ]
  },
  {
   "cell_type": "code",
   "execution_count": 45,
   "metadata": {},
   "outputs": [
    {
     "data": {
      "text/plain": [
       "'Model Performance on custom spam dataset: 50.0%'"
      ]
     },
     "execution_count": 45,
     "metadata": {},
     "output_type": "execute_result"
    }
   ],
   "source": [
    "custom_data_test(model_2)"
   ]
  },
  {
   "cell_type": "markdown",
   "metadata": {},
   "source": [
    "### Model 3: Deep Model with GRU"
   ]
  },
  {
   "cell_type": "code",
   "execution_count": 46,
   "metadata": {},
   "outputs": [],
   "source": [
    "# create model_3 embedding layer\n",
    "embedding = Embedding(input_dim=len(text_vectorizer.get_vocabulary()), \n",
    "                             output_dim=128, \n",
    "                             embeddings_initializer=\"uniform\", \n",
    "                             input_length=output_sequence_length) "
   ]
  },
  {
   "cell_type": "code",
   "execution_count": 47,
   "metadata": {},
   "outputs": [
    {
     "name": "stdout",
     "output_type": "stream",
     "text": [
      "Epoch 1/5\n",
      "79/79 [==============================] - 7s 44ms/step - loss: 0.2812 - accuracy: 0.8847\n",
      "Epoch 2/5\n",
      "79/79 [==============================] - 4s 46ms/step - loss: 0.0505 - accuracy: 0.9838\n",
      "Epoch 3/5\n",
      "79/79 [==============================] - 3s 43ms/step - loss: 0.0156 - accuracy: 0.9956\n",
      "Epoch 4/5\n",
      "79/79 [==============================] - 3s 40ms/step - loss: 0.0056 - accuracy: 0.9992\n",
      "Epoch 5/5\n",
      "79/79 [==============================] - 4s 45ms/step - loss: 0.0012 - accuracy: 1.0000\n"
     ]
    }
   ],
   "source": [
    "# build the model\n",
    "inputs = Input(shape=(1,), dtype='string')\n",
    "x = text_vectorizer(inputs)\n",
    "x = embedding(x)\n",
    "x = GRU(128)(x)\n",
    "outputs = Dense(units=1, activation='sigmoid')(x)\n",
    "\n",
    "model_3 = Model(inputs, outputs, name='gru_model_3')\n",
    "\n",
    "# compile the model\n",
    "model_3.compile(\n",
    "    loss='binary_crossentropy',\n",
    "    optimizer=Adam(),\n",
    "    metrics=['accuracy']\n",
    ")\n",
    "\n",
    "# fit the model\n",
    "history_3 = model_3.fit(\n",
    "    X_train_res,\n",
    "    y_train_res,\n",
    "    epochs=5\n",
    ")"
   ]
  },
  {
   "cell_type": "code",
   "execution_count": 48,
   "metadata": {},
   "outputs": [
    {
     "data": {
      "text/plain": [
       "{'accuracy': 97.75641025641025, 'f1-score': 0.9775604142692751}"
      ]
     },
     "execution_count": 48,
     "metadata": {},
     "output_type": "execute_result"
    }
   ],
   "source": [
    "# evaluate the model\n",
    "pred_probs = model_3.predict(X_test_res)\n",
    "preds = np.squeeze(np.round(pred_probs))\n",
    "evaluate_custom_model(y_test_res, preds)"
   ]
  },
  {
   "cell_type": "code",
   "execution_count": 49,
   "metadata": {},
   "outputs": [
    {
     "data": {
      "text/plain": [
       "'Model Performance on custom spam dataset: 50.0%'"
      ]
     },
     "execution_count": 49,
     "metadata": {},
     "output_type": "execute_result"
    }
   ],
   "source": [
    "custom_data_test(model_3)"
   ]
  },
  {
   "cell_type": "markdown",
   "metadata": {},
   "source": [
    "### Model 4: Deep Model with BRNN"
   ]
  },
  {
   "cell_type": "code",
   "execution_count": 50,
   "metadata": {},
   "outputs": [],
   "source": [
    "# create model_4 embedding layer\n",
    "embedding = Embedding(input_dim=len(text_vectorizer.get_vocabulary()), \n",
    "                             output_dim=128, \n",
    "                             embeddings_initializer=\"uniform\", \n",
    "                             input_length=output_sequence_length) "
   ]
  },
  {
   "cell_type": "code",
   "execution_count": 51,
   "metadata": {},
   "outputs": [
    {
     "name": "stdout",
     "output_type": "stream",
     "text": [
      "Epoch 1/5\n",
      "79/79 [==============================] - 12s 92ms/step - loss: 0.2336 - accuracy: 0.9085\n",
      "Epoch 2/5\n",
      "79/79 [==============================] - 6s 77ms/step - loss: 0.0398 - accuracy: 0.9885\n",
      "Epoch 3/5\n",
      "79/79 [==============================] - 6s 77ms/step - loss: 0.0101 - accuracy: 0.9976\n",
      "Epoch 4/5\n",
      "79/79 [==============================] - 6s 76ms/step - loss: 0.0020 - accuracy: 0.9996\n",
      "Epoch 5/5\n",
      "79/79 [==============================] - 6s 78ms/step - loss: 3.3384e-04 - accuracy: 1.0000\n"
     ]
    }
   ],
   "source": [
    "# build the model\n",
    "inputs = Input(shape=(1,), dtype='string')\n",
    "x = text_vectorizer(inputs)\n",
    "x = embedding(x)\n",
    "x = Bidirectional(LSTM(128))(x)\n",
    "outputs = Dense(units=1, activation='sigmoid')(x)\n",
    "\n",
    "model_4 = Model(inputs, outputs, name='brnn_model_4')\n",
    "\n",
    "# compile the model\n",
    "model_4.compile(\n",
    "    loss='binary_crossentropy',\n",
    "    optimizer=Adam(),\n",
    "    metrics=['accuracy']\n",
    ")\n",
    "\n",
    "# fit the model\n",
    "history_4 = model_4.fit(\n",
    "    X_train_res,\n",
    "    y_train_res,\n",
    "    epochs=5\n",
    ")"
   ]
  },
  {
   "cell_type": "code",
   "execution_count": 52,
   "metadata": {},
   "outputs": [
    {
     "data": {
      "text/plain": [
       "{'accuracy': 98.07692307692307, 'f1-score': 0.9807674526121127}"
      ]
     },
     "execution_count": 52,
     "metadata": {},
     "output_type": "execute_result"
    }
   ],
   "source": [
    "# evaluate the model\n",
    "pred_probs = model_4.predict(X_test_res)\n",
    "preds = np.squeeze(np.round(pred_probs))\n",
    "evaluate_custom_model(y_test_res, preds)"
   ]
  },
  {
   "cell_type": "code",
   "execution_count": 53,
   "metadata": {},
   "outputs": [
    {
     "data": {
      "text/plain": [
       "'Model Performance on custom spam dataset: 50.0%'"
      ]
     },
     "execution_count": 53,
     "metadata": {},
     "output_type": "execute_result"
    }
   ],
   "source": [
    "custom_data_test(model_4)"
   ]
  },
  {
   "cell_type": "markdown",
   "metadata": {},
   "source": [
    "### Model 5: Deep Model with Conv1D"
   ]
  },
  {
   "cell_type": "code",
   "execution_count": 54,
   "metadata": {},
   "outputs": [],
   "source": [
    "# create model_5 embedding layer\n",
    "embedding = Embedding(input_dim=len(text_vectorizer.get_vocabulary()), \n",
    "                             output_dim=128, \n",
    "                             embeddings_initializer=\"uniform\", \n",
    "                             input_length=output_sequence_length) "
   ]
  },
  {
   "cell_type": "code",
   "execution_count": 55,
   "metadata": {},
   "outputs": [
    {
     "name": "stdout",
     "output_type": "stream",
     "text": [
      "Epoch 1/5\n",
      "79/79 [==============================] - 2s 11ms/step - loss: 0.4549 - accuracy: 0.7948\n",
      "Epoch 2/5\n",
      "79/79 [==============================] - 1s 11ms/step - loss: 0.0843 - accuracy: 0.9735\n",
      "Epoch 3/5\n",
      "79/79 [==============================] - 1s 12ms/step - loss: 0.0165 - accuracy: 0.9960\n",
      "Epoch 4/5\n",
      "79/79 [==============================] - 1s 12ms/step - loss: 0.0056 - accuracy: 0.9988\n",
      "Epoch 5/5\n",
      "79/79 [==============================] - 1s 10ms/step - loss: 0.0021 - accuracy: 0.9996\n"
     ]
    }
   ],
   "source": [
    "# build the model\n",
    "inputs = Input(shape=(1,), dtype='string')\n",
    "x = text_vectorizer(inputs)\n",
    "x = embedding(x)\n",
    "x = Conv1D(filters=32, kernel_size=5, activation='relu')(x)\n",
    "x = GlobalMaxPool1D()(x)\n",
    "x = Dense(units=32, activation='relu')(x)\n",
    "outputs = Dense(units=1, activation='sigmoid')(x)\n",
    "\n",
    "model_5 = Model(inputs, outputs, name='conv1d_model_5')\n",
    "\n",
    "# compile the model\n",
    "model_5.compile(\n",
    "    loss='binary_crossentropy',\n",
    "    optimizer=Adam(),\n",
    "    metrics=['accuracy']\n",
    ")\n",
    "\n",
    "# fit the model\n",
    "history_5 = model_5.fit(\n",
    "    X_train_res,\n",
    "    y_train_res,\n",
    "    epochs=5\n",
    ")"
   ]
  },
  {
   "cell_type": "code",
   "execution_count": 56,
   "metadata": {},
   "outputs": [
    {
     "data": {
      "text/plain": [
       "{'accuracy': 98.23717948717949, 'f1-score': 0.9823706629750535}"
      ]
     },
     "execution_count": 56,
     "metadata": {},
     "output_type": "execute_result"
    }
   ],
   "source": [
    "# evaluate the model\n",
    "pred_probs = model_5.predict(X_test_res)\n",
    "preds = np.squeeze(np.round(pred_probs))\n",
    "evaluate_custom_model(y_test_res, preds)"
   ]
  },
  {
   "cell_type": "code",
   "execution_count": 57,
   "metadata": {},
   "outputs": [
    {
     "data": {
      "text/plain": [
       "'Model Performance on custom spam dataset: 50.0%'"
      ]
     },
     "execution_count": 57,
     "metadata": {},
     "output_type": "execute_result"
    }
   ],
   "source": [
    "custom_data_test(model_5)"
   ]
  },
  {
   "cell_type": "markdown",
   "metadata": {},
   "source": [
    "### Model 6: Deep Model with Modifications"
   ]
  },
  {
   "cell_type": "code",
   "execution_count": 82,
   "metadata": {},
   "outputs": [],
   "source": [
    "# create model_6 embedding layer\n",
    "embedding = Embedding(input_dim=len(text_vectorizer.get_vocabulary()), \n",
    "                             output_dim=128, \n",
    "                             embeddings_initializer=\"uniform\", \n",
    "                             input_length=output_sequence_length) "
   ]
  },
  {
   "cell_type": "code",
   "execution_count": 83,
   "metadata": {},
   "outputs": [
    {
     "name": "stdout",
     "output_type": "stream",
     "text": [
      "Epoch 1/5\n",
      "79/79 [==============================] - 32s 238ms/step - loss: 0.4567 - accuracy: 0.8463\n",
      "Epoch 2/5\n",
      "79/79 [==============================] - 19s 240ms/step - loss: 0.1469 - accuracy: 0.9679\n",
      "Epoch 3/5\n",
      "79/79 [==============================] - 19s 235ms/step - loss: 0.0822 - accuracy: 0.9810\n",
      "Epoch 4/5\n",
      "79/79 [==============================] - 19s 245ms/step - loss: 0.0484 - accuracy: 0.9877\n",
      "Epoch 5/5\n",
      "79/79 [==============================] - 19s 236ms/step - loss: 0.0347 - accuracy: 0.9921\n"
     ]
    }
   ],
   "source": [
    "# build the model\n",
    "inputs = Input(shape=(1,), dtype='string')\n",
    "x = text_vectorizer(inputs)\n",
    "x = embedding(x)\n",
    "x = Bidirectional(LSTM(256))(x)\n",
    "x = Reshape((512,1))(x)\n",
    "x = Conv1D(filters=32, kernel_size=5, activation='relu')(x)\n",
    "x = GlobalMaxPool1D()(x)\n",
    "x = Dense(units=32, activation='relu')(x)\n",
    "x = Dropout(0.2)(x)\n",
    "x = Dense(units=16, activation='relu')(x)\n",
    "outputs = Dense(units=1, activation='sigmoid')(x)\n",
    "\n",
    "model_6 = Model(inputs, outputs, name='mods_model_6')\n",
    "\n",
    "# compile the model\n",
    "model_6.compile(\n",
    "    loss='binary_crossentropy',\n",
    "    optimizer=Adam(),\n",
    "    metrics=['accuracy']\n",
    ")\n",
    "\n",
    "# fit the model\n",
    "history_6 = model_6.fit(\n",
    "    X_train_res,\n",
    "    y_train_res,\n",
    "    epochs=5\n",
    ")"
   ]
  },
  {
   "cell_type": "code",
   "execution_count": 119,
   "metadata": {},
   "outputs": [
    {
     "data": {
      "image/png": "[encoded data removed]",
      "text/plain": [
       "<IPython.core.display.Image object>"
      ]
     },
     "execution_count": 119,
     "metadata": {},
     "output_type": "execute_result"
    }
   ],
   "source": [
    "from tensorflow.keras.utils import plot_model\n",
    "plot_model(model_6,\n",
    "           show_layer_names=False,\n",
    "           show_layer_activations=True,\n",
    "           rankdir=\"LR\")"
   ]
  },
  {
   "cell_type": "code",
   "execution_count": 87,
   "metadata": {},
   "outputs": [
    {
     "data": {
      "text/plain": [
       "{'accuracy': 96.31410256410257, 'f1-score': 0.9631068210737376}"
      ]
     },
     "execution_count": 87,
     "metadata": {},
     "output_type": "execute_result"
    }
   ],
   "source": [
    "# evaluate the model\n",
    "pred_probs = model_6.predict(X_test_res)\n",
    "preds = np.squeeze(np.round(pred_probs))\n",
    "evaluate_custom_model(y_test_res, preds)"
   ]
  },
  {
   "cell_type": "code",
   "execution_count": 85,
   "metadata": {},
   "outputs": [
    {
     "data": {
      "text/plain": [
       "'Model Performance on custom spam dataset: 100.0%'"
      ]
     },
     "execution_count": 85,
     "metadata": {},
     "output_type": "execute_result"
    }
   ],
   "source": [
    "custom_data_test(model_6)"
   ]
  },
  {
   "cell_type": "markdown",
   "metadata": {},
   "source": [
    "Great. Our modified model scored 100% on our custom spam data."
   ]
  },
  {
   "cell_type": "code",
   "execution_count": 88,
   "metadata": {},
   "outputs": [
    {
     "data": {
      "text/plain": [
       "array([0., 0., 0., 1.], dtype=float32)"
      ]
     },
     "execution_count": 88,
     "metadata": {},
     "output_type": "execute_result"
    }
   ],
   "source": [
    "test = model_6.predict(['Hey, can I come today?', \n",
    "                        'How was your game yesterday?', \n",
    "                        'Here is Ahmeds number 96605093434', \n",
    "                        'Free tickets to dinseyland. Offer only for you, send your id now!!!'])\n",
    "np.squeeze(np.round(test))"
   ]
  },
  {
   "cell_type": "markdown",
   "metadata": {},
   "source": [
    "Amazing !!. Looks like our model is performing well on custom data again. We will proceed now to deployment."
   ]
  },
  {
   "cell_type": "code",
   "execution_count": null,
   "metadata": {},
   "outputs": [],
   "source": [
    "# save the model\n",
    "# model_6.save('spam_detection_model')"
   ]
  }
 ],
 "metadata": {
  "kernelspec": {
   "display_name": "Python 3.10.2 64-bit",
   "language": "python",
   "name": "python3"
  },
  "language_info": {
   "codemirror_mode": {
    "name": "ipython",
    "version": 3
   },
   "file_extension": ".py",
   "mimetype": "text/x-python",
   "name": "python",
   "nbconvert_exporter": "python",
   "pygments_lexer": "ipython3",
   "version": "3.10.2"
  },
  "orig_nbformat": 4,
  "vscode": {
   "interpreter": {
    "hash": "949777d72b0d2535278d3dc13498b2535136f6dfe0678499012e853ee9abcab1"
   }
  }
 },
 "nbformat": 4,
 "nbformat_minor": 2
}
